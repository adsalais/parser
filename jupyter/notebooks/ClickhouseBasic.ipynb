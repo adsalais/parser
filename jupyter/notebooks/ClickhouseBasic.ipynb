{
 "cells": [
  {
   "cell_type": "markdown",
   "id": "61f2d300-ac64-42f4-b4fb-e3ac195c8bcd",
   "metadata": {},
   "source": [
    "# Clickhouse Example\n",
    "----\n",
    "\n",
    "Connection parameters are defined in the ./jupyter/"
   ]
  },
  {
   "cell_type": "code",
   "execution_count": 4,
   "id": "7e6359d1-f0e6-4183-924c-f09a045ea1d5",
   "metadata": {},
   "outputs": [
    {
     "name": "stdout",
     "output_type": "stream",
     "text": [
      "The sql extension is already loaded. To reload it, use:\n",
      "  %reload_ext sql\n"
     ]
    },
    {
     "data": {
      "text/html": [
       "<span style=\"None\">Connecting to &#x27;clickhouse&#x27;</span>"
      ],
      "text/plain": [
       "Connecting to 'clickhouse'"
      ]
     },
     "metadata": {},
     "output_type": "display_data"
    }
   ],
   "source": [
    "%load_ext sql\n",
    "%config SqlMagic.displaylimit = 50\n",
    "%sql --section clickhouse"
   ]
  },
  {
   "cell_type": "markdown",
   "id": "7566edb0-1b88-42d8-bfdb-20ad2206466d",
   "metadata": {},
   "source": [
    "## Query test"
   ]
  },
  {
   "cell_type": "code",
   "execution_count": 5,
   "id": "b583cc77-f49d-439c-b90a-81e165897d86",
   "metadata": {},
   "outputs": [
    {
     "data": {
      "text/html": [
       "<span style=\"None\">Running query in &#x27;clickhouse&#x27;</span>"
      ],
      "text/plain": [
       "Running query in 'clickhouse'"
      ]
     },
     "metadata": {},
     "output_type": "display_data"
    },
    {
     "data": {
      "text/html": [
       "<table>\n",
       "    <thead>\n",
       "        <tr>\n",
       "            <th>name</th>\n",
       "            <th>total_rows</th>\n",
       "            <th>total_bytes</th>\n",
       "            <th>total_bytes_uncompressed</th>\n",
       "            <th>compression_ratio</th>\n",
       "        </tr>\n",
       "    </thead>\n",
       "    <tbody>\n",
       "        <tr>\n",
       "            <td>asynchronous_metric_log</td>\n",
       "            <td>157923</td>\n",
       "            <td>140714</td>\n",
       "            <td>2560890</td>\n",
       "            <td>18.19</td>\n",
       "        </tr>\n",
       "        <tr>\n",
       "            <td>text_log</td>\n",
       "            <td>31494</td>\n",
       "            <td>615248</td>\n",
       "            <td>4221449</td>\n",
       "            <td>6.86</td>\n",
       "        </tr>\n",
       "        <tr>\n",
       "            <td>timeline_short</td>\n",
       "            <td>2355</td>\n",
       "            <td>41628</td>\n",
       "            <td>66510</td>\n",
       "            <td>1.59</td>\n",
       "        </tr>\n",
       "        <tr>\n",
       "            <td>query_views_log</td>\n",
       "            <td>1804</td>\n",
       "            <td>56121</td>\n",
       "            <td>624453</td>\n",
       "            <td>11.12</td>\n",
       "        </tr>\n",
       "        <tr>\n",
       "            <td>srum_app_timeline</td>\n",
       "            <td>1660</td>\n",
       "            <td>147639</td>\n",
       "            <td>762060</td>\n",
       "            <td>5.16</td>\n",
       "        </tr>\n",
       "        <tr>\n",
       "            <td>metric_log</td>\n",
       "            <td>659</td>\n",
       "            <td>710559</td>\n",
       "            <td>828179</td>\n",
       "            <td>1.16</td>\n",
       "        </tr>\n",
       "        <tr>\n",
       "            <td>srum_application_resources</td>\n",
       "            <td>562</td>\n",
       "            <td>38656</td>\n",
       "            <td>144363</td>\n",
       "            <td>3.73</td>\n",
       "        </tr>\n",
       "        <tr>\n",
       "            <td>trace_log</td>\n",
       "            <td>557</td>\n",
       "            <td>43725</td>\n",
       "            <td>272635</td>\n",
       "            <td>6.23</td>\n",
       "        </tr>\n",
       "        <tr>\n",
       "            <td>query_log</td>\n",
       "            <td>106</td>\n",
       "            <td>26977</td>\n",
       "            <td>125673</td>\n",
       "            <td>4.65</td>\n",
       "        </tr>\n",
       "        <tr>\n",
       "            <td>srum_network_data_usage</td>\n",
       "            <td>96</td>\n",
       "            <td>5289</td>\n",
       "            <td>15043</td>\n",
       "            <td>2.84</td>\n",
       "        </tr>\n",
       "        <tr>\n",
       "            <td>processors_profile_log</td>\n",
       "            <td>79</td>\n",
       "            <td>5901</td>\n",
       "            <td>18886</td>\n",
       "            <td>3.2</td>\n",
       "        </tr>\n",
       "        <tr>\n",
       "            <td>srum_vfuprov</td>\n",
       "            <td>26</td>\n",
       "            <td>1990</td>\n",
       "            <td>4237</td>\n",
       "            <td>2.12</td>\n",
       "        </tr>\n",
       "        <tr>\n",
       "            <td>part_log</td>\n",
       "            <td>20</td>\n",
       "            <td>8829</td>\n",
       "            <td>9788</td>\n",
       "            <td>1.1</td>\n",
       "        </tr>\n",
       "        <tr>\n",
       "            <td>srum_network_connectivity_usage</td>\n",
       "            <td>6</td>\n",
       "            <td>871</td>\n",
       "            <td>973</td>\n",
       "            <td>1.11</td>\n",
       "        </tr>\n",
       "        <tr>\n",
       "            <td>srum_wpn_provider</td>\n",
       "            <td>5</td>\n",
       "            <td>975</td>\n",
       "            <td>1315</td>\n",
       "            <td>1.34</td>\n",
       "        </tr>\n",
       "        <tr>\n",
       "            <td>error_log</td>\n",
       "            <td>2</td>\n",
       "            <td>1770</td>\n",
       "            <td>764</td>\n",
       "            <td>0.43</td>\n",
       "        </tr>\n",
       "    </tbody>\n",
       "</table>"
      ],
      "text/plain": [
       "+---------------------------------+------------+-------------+--------------------------+-------------------+\n",
       "|               name              | total_rows | total_bytes | total_bytes_uncompressed | compression_ratio |\n",
       "+---------------------------------+------------+-------------+--------------------------+-------------------+\n",
       "|     asynchronous_metric_log     |   157923   |    140714   |         2560890          |       18.19       |\n",
       "|             text_log            |   31494    |    615248   |         4221449          |        6.86       |\n",
       "|          timeline_short         |    2355    |    41628    |          66510           |        1.59       |\n",
       "|         query_views_log         |    1804    |    56121    |          624453          |       11.12       |\n",
       "|        srum_app_timeline        |    1660    |    147639   |          762060          |        5.16       |\n",
       "|            metric_log           |    659     |    710559   |          828179          |        1.16       |\n",
       "|    srum_application_resources   |    562     |    38656    |          144363          |        3.73       |\n",
       "|            trace_log            |    557     |    43725    |          272635          |        6.23       |\n",
       "|            query_log            |    106     |    26977    |          125673          |        4.65       |\n",
       "|     srum_network_data_usage     |     96     |     5289    |          15043           |        2.84       |\n",
       "|      processors_profile_log     |     79     |     5901    |          18886           |        3.2        |\n",
       "|           srum_vfuprov          |     26     |     1990    |           4237           |        2.12       |\n",
       "|             part_log            |     20     |     8829    |           9788           |        1.1        |\n",
       "| srum_network_connectivity_usage |     6      |     871     |           973            |        1.11       |\n",
       "|        srum_wpn_provider        |     5      |     975     |           1315           |        1.34       |\n",
       "|            error_log            |     2      |     1770    |           764            |        0.43       |\n",
       "+---------------------------------+------------+-------------+--------------------------+-------------------+"
      ]
     },
     "execution_count": 5,
     "metadata": {},
     "output_type": "execute_result"
    }
   ],
   "source": [
    "%%sql SELECT \n",
    "    name,\n",
    "    total_rows,\n",
    "    total_bytes,\n",
    "    total_bytes_uncompressed,\n",
    "    FLOOR(total_bytes_uncompressed / total_bytes, 2) AS compression_ratio\n",
    "FROM\n",
    "  `system`.tables\n",
    "WHERE\n",
    "   total_rows > 0\n",
    "ORDER BY\n",
    "  total_rows DESC"
   ]
  },
  {
   "cell_type": "code",
   "execution_count": null,
   "id": "dc019f2b-824e-4899-8397-2656cad40529",
   "metadata": {},
   "outputs": [],
   "source": []
  }
 ],
 "metadata": {
  "kernelspec": {
   "display_name": "Python 3 (ipykernel)",
   "language": "python",
   "name": "python3"
  },
  "language_info": {
   "codemirror_mode": {
    "name": "ipython",
    "version": 3
   },
   "file_extension": ".py",
   "mimetype": "text/x-python",
   "name": "python",
   "nbconvert_exporter": "python",
   "pygments_lexer": "ipython3",
   "version": "3.12.8"
  }
 },
 "nbformat": 4,
 "nbformat_minor": 5
}
