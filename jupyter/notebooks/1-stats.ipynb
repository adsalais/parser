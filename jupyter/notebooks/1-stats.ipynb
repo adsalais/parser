{
 "cells": [
  {
   "cell_type": "markdown",
   "id": "61f2d300-ac64-42f4-b4fb-e3ac195c8bcd",
   "metadata": {},
   "source": [
    "# Clickhouse Stats\n"
   ]
  },
  {
   "cell_type": "markdown",
   "id": "25ff2430-fe3a-4dbe-9f09-69fd60f91630",
   "metadata": {},
   "source": [
    "----\n",
    "## Connection\n",
    "Connection parameters are defined in the ./jupyter/connections.ini"
   ]
  },
  {
   "cell_type": "code",
   "execution_count": 6,
   "id": "7e6359d1-f0e6-4183-924c-f09a045ea1d5",
   "metadata": {},
   "outputs": [
    {
     "name": "stdout",
     "output_type": "stream",
     "text": [
      "The sql extension is already loaded. To reload it, use:\n",
      "  %reload_ext sql\n"
     ]
    },
    {
     "data": {
      "text/html": [
       "<span style=\"None\">Connecting to &#x27;clickhouse&#x27;</span>"
      ],
      "text/plain": [
       "Connecting to 'clickhouse'"
      ]
     },
     "metadata": {},
     "output_type": "display_data"
    }
   ],
   "source": [
    "%load_ext sql\n",
    "%config SqlMagic.displaylimit = 50\n",
    "%sql --section clickhouse"
   ]
  },
  {
   "cell_type": "markdown",
   "id": "48abd3f4-1d1f-4fd8-87dd-aa95145acf9c",
   "metadata": {},
   "source": [
    "----\n",
    "## Database Selection"
   ]
  },
  {
   "cell_type": "code",
   "execution_count": 13,
   "id": "dc019f2b-824e-4899-8397-2656cad40529",
   "metadata": {},
   "outputs": [
    {
     "data": {
      "text/html": [
       "<span style=\"None\">Running query in &#x27;clickhouse&#x27;</span>"
      ],
      "text/plain": [
       "Running query in 'clickhouse'"
      ]
     },
     "metadata": {},
     "output_type": "display_data"
    },
    {
     "data": {
      "text/html": [
       "<table>\n",
       "    <thead>\n",
       "        <tr>\n",
       "        </tr>\n",
       "    </thead>\n",
       "    <tbody>\n",
       "    </tbody>\n",
       "</table>"
      ],
      "text/plain": [
       "++\n",
       "||\n",
       "++\n",
       "++"
      ]
     },
     "execution_count": 13,
     "metadata": {},
     "output_type": "execute_result"
    }
   ],
   "source": [
    "database = \"demo\"\n",
    "%sql use {{database}}"
   ]
  },
  {
   "cell_type": "markdown",
   "id": "5f92c69f-93a0-4ab1-8edf-cc6635ce48d3",
   "metadata": {},
   "source": [
    "----\n",
    "## Database Compression Ratio"
   ]
  },
  {
   "cell_type": "code",
   "execution_count": 28,
   "id": "c55198ed-1e94-480a-a835-c21c827d8a9a",
   "metadata": {
    "jupyter": {
     "source_hidden": true
    }
   },
   "outputs": [
    {
     "data": {
      "text/html": [
       "<span style=\"None\">Running query in &#x27;clickhouse&#x27;</span>"
      ],
      "text/plain": [
       "Running query in 'clickhouse'"
      ]
     },
     "metadata": {},
     "output_type": "display_data"
    },
    {
     "data": {
      "text/html": [
       "<table>\n",
       "    <thead>\n",
       "        <tr>\n",
       "            <th>Rows</th>\n",
       "            <th>Comp_in_mb</th>\n",
       "            <th>Uncomp_in_mb</th>\n",
       "            <th>Comp_ratio</th>\n",
       "        </tr>\n",
       "    </thead>\n",
       "    <tbody>\n",
       "        <tr>\n",
       "            <td>8795488</td>\n",
       "            <td>360.85</td>\n",
       "            <td>1580.19</td>\n",
       "            <td>4.37</td>\n",
       "        </tr>\n",
       "    </tbody>\n",
       "</table>"
      ],
      "text/plain": [
       "+---------+------------+--------------+------------+\n",
       "|   Rows  | Comp_in_mb | Uncomp_in_mb | Comp_ratio |\n",
       "+---------+------------+--------------+------------+\n",
       "| 8795488 |   360.85   |   1580.19    |    4.37    |\n",
       "+---------+------------+--------------+------------+"
      ]
     },
     "execution_count": 28,
     "metadata": {},
     "output_type": "execute_result"
    }
   ],
   "source": [
    "%%sql \n",
    "SELECT \n",
    "    SUM(total_rows) as Rows,\n",
    "    FLOOR(SUM(total_bytes)/1024/1024, 2) as Comp_in_mb,\n",
    "    FLOOR(SUM(total_bytes_uncompressed)/1024/1024, 2) as Uncomp_in_mb,\n",
    "    FLOOR(Uncomp_in_mb/Comp_in_mb,2) as Comp_ratio\n",
    "FROM `system`.tables \n",
    "WHERE \n",
    "\tdatabase = '{{database}}' "
   ]
  },
  {
   "cell_type": "markdown",
   "id": "7566edb0-1b88-42d8-bfdb-20ad2206466d",
   "metadata": {},
   "source": [
    "----\n",
    "## Table Statistics"
   ]
  },
  {
   "cell_type": "code",
   "execution_count": 19,
   "id": "b583cc77-f49d-439c-b90a-81e165897d86",
   "metadata": {
    "jupyter": {
     "source_hidden": true
    }
   },
   "outputs": [
    {
     "data": {
      "text/html": [
       "<span style=\"None\">Running query in &#x27;clickhouse&#x27;</span>"
      ],
      "text/plain": [
       "Running query in 'clickhouse'"
      ]
     },
     "metadata": {},
     "output_type": "display_data"
    },
    {
     "data": {
      "text/html": [
       "<table>\n",
       "    <thead>\n",
       "        <tr>\n",
       "            <th>name</th>\n",
       "            <th>total_rows</th>\n",
       "            <th>compressed_in_mb</th>\n",
       "            <th>uncompressed_in_mb</th>\n",
       "            <th>compression_ratio</th>\n",
       "        </tr>\n",
       "    </thead>\n",
       "    <tbody>\n",
       "        <tr>\n",
       "            <td>timeline_short</td>\n",
       "            <td>3707699</td>\n",
       "            <td>52.56</td>\n",
       "            <td>124.09</td>\n",
       "            <td>2.36</td>\n",
       "        </tr>\n",
       "        <tr>\n",
       "            <td>hive</td>\n",
       "            <td>3598227</td>\n",
       "            <td>168.61</td>\n",
       "            <td>706.59</td>\n",
       "            <td>4.19</td>\n",
       "        </tr>\n",
       "        <tr>\n",
       "            <td>ntfs_info</td>\n",
       "            <td>1380834</td>\n",
       "            <td>134.04</td>\n",
       "            <td>722.78</td>\n",
       "            <td>5.39</td>\n",
       "        </tr>\n",
       "        <tr>\n",
       "            <td>srum_application_resources</td>\n",
       "            <td>49920</td>\n",
       "            <td>2.62</td>\n",
       "            <td>10.95</td>\n",
       "            <td>4.17</td>\n",
       "        </tr>\n",
       "        <tr>\n",
       "            <td>srum_energy_estimation</td>\n",
       "            <td>36512</td>\n",
       "            <td>1.69</td>\n",
       "            <td>7.44</td>\n",
       "            <td>4.38</td>\n",
       "        </tr>\n",
       "        <tr>\n",
       "            <td>evtx</td>\n",
       "            <td>9596</td>\n",
       "            <td>0.84</td>\n",
       "            <td>7.25</td>\n",
       "            <td>8.62</td>\n",
       "        </tr>\n",
       "        <tr>\n",
       "            <td>srum_network_data_usage</td>\n",
       "            <td>8528</td>\n",
       "            <td>0.25</td>\n",
       "            <td>1.19</td>\n",
       "            <td>4.6</td>\n",
       "        </tr>\n",
       "        <tr>\n",
       "            <td>srum_vfuprov</td>\n",
       "            <td>1912</td>\n",
       "            <td>0.06</td>\n",
       "            <td>0.27</td>\n",
       "            <td>3.94</td>\n",
       "        </tr>\n",
       "        <tr>\n",
       "            <td>srum_energy_usage</td>\n",
       "            <td>804</td>\n",
       "            <td>0.02</td>\n",
       "            <td>0.08</td>\n",
       "            <td>2.82</td>\n",
       "        </tr>\n",
       "        <tr>\n",
       "            <td>srum_network_connectivity_usage</td>\n",
       "            <td>744</td>\n",
       "            <td>0.02</td>\n",
       "            <td>0.06</td>\n",
       "            <td>2.73</td>\n",
       "        </tr>\n",
       "        <tr>\n",
       "            <td>srum_energy_usage_long_term</td>\n",
       "            <td>616</td>\n",
       "            <td>0.02</td>\n",
       "            <td>0.07</td>\n",
       "            <td>2.72</td>\n",
       "        </tr>\n",
       "        <tr>\n",
       "            <td>srum_tagged_energy</td>\n",
       "            <td>64</td>\n",
       "            <td>0.0</td>\n",
       "            <td>0.01</td>\n",
       "            <td>3.84</td>\n",
       "        </tr>\n",
       "        <tr>\n",
       "            <td>srum_wpn_provider</td>\n",
       "            <td>32</td>\n",
       "            <td>0.0</td>\n",
       "            <td>0.0</td>\n",
       "            <td>1.75</td>\n",
       "        </tr>\n",
       "    </tbody>\n",
       "</table>"
      ],
      "text/plain": [
       "+---------------------------------+------------+------------------+--------------------+-------------------+\n",
       "|               name              | total_rows | compressed_in_mb | uncompressed_in_mb | compression_ratio |\n",
       "+---------------------------------+------------+------------------+--------------------+-------------------+\n",
       "|          timeline_short         |  3707699   |      52.56       |       124.09       |        2.36       |\n",
       "|               hive              |  3598227   |      168.61      |       706.59       |        4.19       |\n",
       "|            ntfs_info            |  1380834   |      134.04      |       722.78       |        5.39       |\n",
       "|    srum_application_resources   |   49920    |       2.62       |       10.95        |        4.17       |\n",
       "|      srum_energy_estimation     |   36512    |       1.69       |        7.44        |        4.38       |\n",
       "|               evtx              |    9596    |       0.84       |        7.25        |        8.62       |\n",
       "|     srum_network_data_usage     |    8528    |       0.25       |        1.19        |        4.6        |\n",
       "|           srum_vfuprov          |    1912    |       0.06       |        0.27        |        3.94       |\n",
       "|        srum_energy_usage        |    804     |       0.02       |        0.08        |        2.82       |\n",
       "| srum_network_connectivity_usage |    744     |       0.02       |        0.06        |        2.73       |\n",
       "|   srum_energy_usage_long_term   |    616     |       0.02       |        0.07        |        2.72       |\n",
       "|        srum_tagged_energy       |     64     |       0.0        |        0.01        |        3.84       |\n",
       "|        srum_wpn_provider        |     32     |       0.0        |        0.0         |        1.75       |\n",
       "+---------------------------------+------------+------------------+--------------------+-------------------+"
      ]
     },
     "execution_count": 19,
     "metadata": {},
     "output_type": "execute_result"
    }
   ],
   "source": [
    "%%sql SELECT \n",
    "    name,\n",
    "    total_rows,\n",
    "    FLOOR(total_bytes/1024/1024, 2) as compressed_in_mb,\n",
    "    FLOOR(total_bytes_uncompressed/1024/1024, 2) as uncompressed_in_mb,\n",
    "    FLOOR(total_bytes_uncompressed / total_bytes, 2) AS compression_ratio\n",
    "FROM\n",
    "    `system`.tables\n",
    "WHERE\n",
    "    database = '{{database}}' AND \n",
    "    total_rows > 0\n",
    "ORDER BY\n",
    "    total_rows DESC"
   ]
  },
  {
   "cell_type": "markdown",
   "id": "df866714-818e-4869-9cb4-2cbf0bc38757",
   "metadata": {},
   "source": [
    "----\n",
    "## Timeline data usage"
   ]
  },
  {
   "cell_type": "code",
   "execution_count": 29,
   "id": "82682bdc-4d9f-4452-afe7-44b4d1809e73",
   "metadata": {},
   "outputs": [
    {
     "data": {
      "text/html": [
       "<span style=\"None\">Running query in &#x27;clickhouse&#x27;</span>"
      ],
      "text/plain": [
       "Running query in 'clickhouse'"
      ]
     },
     "metadata": {},
     "output_type": "display_data"
    },
    {
     "data": {
      "text/html": [
       "<table>\n",
       "    <thead>\n",
       "        <tr>\n",
       "            <th>total_bytes</th>\n",
       "            <th>timeline_bytes</th>\n",
       "            <th>timeline_to_data_ratio</th>\n",
       "        </tr>\n",
       "    </thead>\n",
       "    <tbody>\n",
       "        <tr>\n",
       "            <td>323254138</td>\n",
       "            <td>55092754</td>\n",
       "            <td>0.17</td>\n",
       "        </tr>\n",
       "    </tbody>\n",
       "</table>"
      ],
      "text/plain": [
       "+-------------+----------------+------------------------+\n",
       "| total_bytes | timeline_bytes | timeline_to_data_ratio |\n",
       "+-------------+----------------+------------------------+\n",
       "|  323254138  |    55092754    |          0.17          |\n",
       "+-------------+----------------+------------------------+"
      ]
     },
     "execution_count": 29,
     "metadata": {},
     "output_type": "execute_result"
    }
   ],
   "source": [
    "%%sql \n",
    "SELECT \n",
    "\tSUM(total_bytes) as total_bytes,\n",
    "\t(SELECT total_bytes FROM `system`.tables WHERE database = '{{database}}' AND name='timeline_short') as timeline_bytes,\n",
    "\tfloor((SELECT total_bytes FROM `system`.tables WHERE database = '{{database}}' AND name='timeline_short')/total_bytes,2) as timeline_to_data_ratio\n",
    "FROM `system`.tables \n",
    "WHERE \n",
    "\tdatabase = '{{database}}' AND\n",
    "\tname != 'timeline_short' AND\n",
    "\ttotal_rows>0"
   ]
  },
  {
   "cell_type": "code",
   "execution_count": null,
   "id": "2304099b-ec27-4d3a-a7f0-17549bf23c2a",
   "metadata": {},
   "outputs": [],
   "source": []
  }
 ],
 "metadata": {
  "kernelspec": {
   "display_name": "Python 3 (ipykernel)",
   "language": "python",
   "name": "python3"
  },
  "language_info": {
   "codemirror_mode": {
    "name": "ipython",
    "version": 3
   },
   "file_extension": ".py",
   "mimetype": "text/x-python",
   "name": "python",
   "nbconvert_exporter": "python",
   "pygments_lexer": "ipython3",
   "version": "3.12.8"
  }
 },
 "nbformat": 4,
 "nbformat_minor": 5
}
