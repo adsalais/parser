{
 "cells": [
  {
   "cell_type": "code",
   "execution_count": 30,
   "id": "0b6ca258-291e-48c4-a862-c6787ac9e73a",
   "metadata": {},
   "outputs": [
    {
     "data": {
      "text/html": [
       "<span style=\"None\">Running query in &#x27;clickhouse&#x27;</span>"
      ],
      "text/plain": [
       "Running query in 'clickhouse'"
      ]
     },
     "metadata": {},
     "output_type": "display_data"
    },
    {
     "data": {
      "text/html": [
       "<table>\n",
       "    <thead>\n",
       "        <tr>\n",
       "            <th>total_bytes</th>\n",
       "            <th>timeline_bytes</th>\n",
       "            <th>timeline_to_data_ratio</th>\n",
       "        </tr>\n",
       "    </thead>\n",
       "    <tbody>\n",
       "        <tr>\n",
       "            <td>323254138</td>\n",
       "            <td>55092754</td>\n",
       "            <td>0.17</td>\n",
       "        </tr>\n",
       "    </tbody>\n",
       "</table>"
      ],
      "text/plain": [
       "+-------------+----------------+------------------------+\n",
       "| total_bytes | timeline_bytes | timeline_to_data_ratio |\n",
       "+-------------+----------------+------------------------+\n",
       "|  323254138  |    55092754    |          0.17          |\n",
       "+-------------+----------------+------------------------+"
      ]
     },
     "execution_count": 30,
     "metadata": {},
     "output_type": "execute_result"
    }
   ],
   "source": [
    "%%sql \n",
    "SELECT \n",
    "\tSUM(total_bytes) as total_bytes,\n",
    "\t(SELECT total_bytes FROM `system`.tables WHERE database = '{{database}}' AND name='timeline_short') as timeline_bytes,\n",
    "\tfloor((SELECT total_bytes FROM `system`.tables WHERE database = '{{database}}' AND name='timeline_short')/total_bytes,2) as timeline_to_data_ratio\n",
    "FROM `system`.tables \n",
    "WHERE \n",
    "\tdatabase = '{{database}}' AND\n",
    "\tname != 'timeline_short' AND\n",
    "\ttotal_rows>0"
   ]
  },
  {
   "cell_type": "code",
   "execution_count": null,
   "id": "5b96057f-02a7-4754-898d-1caff8dec6f2",
   "metadata": {},
   "outputs": [],
   "source": []
  },
  {
   "cell_type": "code",
   "execution_count": null,
   "id": "de670fec-d74e-40dc-b758-3e3dd7f25e26",
   "metadata": {},
   "outputs": [],
   "source": []
  },
  {
   "cell_type": "code",
   "execution_count": null,
   "id": "ee42304d-f94f-4fc7-9f5a-88a9b2dc0308",
   "metadata": {},
   "outputs": [],
   "source": []
  }
 ],
 "metadata": {
  "kernelspec": {
   "display_name": "Python 3 (ipykernel)",
   "language": "python",
   "name": "python3"
  },
  "language_info": {
   "codemirror_mode": {
    "name": "ipython",
    "version": 3
   },
   "file_extension": ".py",
   "mimetype": "text/x-python",
   "name": "python",
   "nbconvert_exporter": "python",
   "pygments_lexer": "ipython3",
   "version": "3.12.8"
  }
 },
 "nbformat": 4,
 "nbformat_minor": 5
}
